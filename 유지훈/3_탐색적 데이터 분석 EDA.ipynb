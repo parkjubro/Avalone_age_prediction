{
 "cells": [
  {
   "cell_type": "code",
   "execution_count": 1,
   "id": "5df90a8a",
   "metadata": {},
   "outputs": [],
   "source": [
    "import pandas as pd\n",
    "import numpy as np\n",
    "import matplotlib.pyplot as plt\n",
    "import seaborn as sns\n",
    "\n",
    "import warnings\n",
    "warnings.filterwarnings('ignore')"
   ]
  },
  {
   "cell_type": "code",
   "execution_count": 2,
   "id": "f65abab6",
   "metadata": {},
   "outputs": [],
   "source": [
    "test_df = pd.read_csv('./data/test.csv')\n",
    "train_df = pd.read_csv('./data/train.csv')\n",
    "sample_submission_df = pd.read_csv('./data/sample_submission.csv')"
   ]
  },
  {
   "cell_type": "markdown",
   "id": "0d429475",
   "metadata": {},
   "source": [
    "## 데이터프레임에서 id 값을 제거\n",
    "\n",
    "axis=0 + labels 는 index인수와 역할이 같고 axis=1 + labels는 columns와 역할이 같다."
   ]
  },
  {
   "cell_type": "code",
   "execution_count": 3,
   "id": "1066d89d",
   "metadata": {},
   "outputs": [
    {
     "data": {
      "text/html": [
       "<div>\n",
       "<style scoped>\n",
       "    .dataframe tbody tr th:only-of-type {\n",
       "        vertical-align: middle;\n",
       "    }\n",
       "\n",
       "    .dataframe tbody tr th {\n",
       "        vertical-align: top;\n",
       "    }\n",
       "\n",
       "    .dataframe thead th {\n",
       "        text-align: right;\n",
       "    }\n",
       "</style>\n",
       "<table border=\"1\" class=\"dataframe\">\n",
       "  <thead>\n",
       "    <tr style=\"text-align: right;\">\n",
       "      <th></th>\n",
       "      <th>Lenght</th>\n",
       "      <th>Diameter</th>\n",
       "      <th>Height</th>\n",
       "      <th>Whole Weight</th>\n",
       "      <th>Shucked Weight</th>\n",
       "      <th>Viscra Weight</th>\n",
       "      <th>Shell Weight</th>\n",
       "      <th>Target</th>\n",
       "    </tr>\n",
       "  </thead>\n",
       "  <tbody>\n",
       "    <tr>\n",
       "      <th>0</th>\n",
       "      <td>0.605</td>\n",
       "      <td>0.470</td>\n",
       "      <td>0.115</td>\n",
       "      <td>1.1140</td>\n",
       "      <td>0.3925</td>\n",
       "      <td>0.2910</td>\n",
       "      <td>0.3100</td>\n",
       "      <td>15</td>\n",
       "    </tr>\n",
       "    <tr>\n",
       "      <th>1</th>\n",
       "      <td>0.430</td>\n",
       "      <td>0.315</td>\n",
       "      <td>0.095</td>\n",
       "      <td>0.3780</td>\n",
       "      <td>0.1750</td>\n",
       "      <td>0.0800</td>\n",
       "      <td>0.1045</td>\n",
       "      <td>8</td>\n",
       "    </tr>\n",
       "    <tr>\n",
       "      <th>2</th>\n",
       "      <td>0.580</td>\n",
       "      <td>0.490</td>\n",
       "      <td>0.195</td>\n",
       "      <td>1.3165</td>\n",
       "      <td>0.5305</td>\n",
       "      <td>0.2540</td>\n",
       "      <td>0.4100</td>\n",
       "      <td>18</td>\n",
       "    </tr>\n",
       "    <tr>\n",
       "      <th>3</th>\n",
       "      <td>0.535</td>\n",
       "      <td>0.405</td>\n",
       "      <td>0.175</td>\n",
       "      <td>1.2705</td>\n",
       "      <td>0.5480</td>\n",
       "      <td>0.3265</td>\n",
       "      <td>0.3370</td>\n",
       "      <td>13</td>\n",
       "    </tr>\n",
       "    <tr>\n",
       "      <th>4</th>\n",
       "      <td>0.310</td>\n",
       "      <td>0.235</td>\n",
       "      <td>0.090</td>\n",
       "      <td>0.1270</td>\n",
       "      <td>0.0480</td>\n",
       "      <td>0.0310</td>\n",
       "      <td>0.0400</td>\n",
       "      <td>6</td>\n",
       "    </tr>\n",
       "    <tr>\n",
       "      <th>...</th>\n",
       "      <td>...</td>\n",
       "      <td>...</td>\n",
       "      <td>...</td>\n",
       "      <td>...</td>\n",
       "      <td>...</td>\n",
       "      <td>...</td>\n",
       "      <td>...</td>\n",
       "      <td>...</td>\n",
       "    </tr>\n",
       "    <tr>\n",
       "      <th>1248</th>\n",
       "      <td>0.190</td>\n",
       "      <td>0.145</td>\n",
       "      <td>0.040</td>\n",
       "      <td>0.0380</td>\n",
       "      <td>0.0165</td>\n",
       "      <td>0.0065</td>\n",
       "      <td>0.0150</td>\n",
       "      <td>4</td>\n",
       "    </tr>\n",
       "    <tr>\n",
       "      <th>1249</th>\n",
       "      <td>0.395</td>\n",
       "      <td>0.310</td>\n",
       "      <td>0.085</td>\n",
       "      <td>0.3170</td>\n",
       "      <td>0.1530</td>\n",
       "      <td>0.0505</td>\n",
       "      <td>0.0935</td>\n",
       "      <td>7</td>\n",
       "    </tr>\n",
       "    <tr>\n",
       "      <th>1250</th>\n",
       "      <td>0.525</td>\n",
       "      <td>0.410</td>\n",
       "      <td>0.115</td>\n",
       "      <td>0.7745</td>\n",
       "      <td>0.4160</td>\n",
       "      <td>0.1630</td>\n",
       "      <td>0.1800</td>\n",
       "      <td>7</td>\n",
       "    </tr>\n",
       "    <tr>\n",
       "      <th>1251</th>\n",
       "      <td>0.445</td>\n",
       "      <td>0.335</td>\n",
       "      <td>0.110</td>\n",
       "      <td>0.4355</td>\n",
       "      <td>0.2025</td>\n",
       "      <td>0.1095</td>\n",
       "      <td>0.1195</td>\n",
       "      <td>6</td>\n",
       "    </tr>\n",
       "    <tr>\n",
       "      <th>1252</th>\n",
       "      <td>0.750</td>\n",
       "      <td>0.550</td>\n",
       "      <td>0.195</td>\n",
       "      <td>1.8325</td>\n",
       "      <td>0.8300</td>\n",
       "      <td>0.3660</td>\n",
       "      <td>0.4400</td>\n",
       "      <td>11</td>\n",
       "    </tr>\n",
       "  </tbody>\n",
       "</table>\n",
       "<p>1253 rows × 8 columns</p>\n",
       "</div>"
      ],
      "text/plain": [
       "      Lenght  Diameter  Height  Whole Weight  Shucked Weight  Viscra Weight  \\\n",
       "0      0.605     0.470   0.115        1.1140          0.3925         0.2910   \n",
       "1      0.430     0.315   0.095        0.3780          0.1750         0.0800   \n",
       "2      0.580     0.490   0.195        1.3165          0.5305         0.2540   \n",
       "3      0.535     0.405   0.175        1.2705          0.5480         0.3265   \n",
       "4      0.310     0.235   0.090        0.1270          0.0480         0.0310   \n",
       "...      ...       ...     ...           ...             ...            ...   \n",
       "1248   0.190     0.145   0.040        0.0380          0.0165         0.0065   \n",
       "1249   0.395     0.310   0.085        0.3170          0.1530         0.0505   \n",
       "1250   0.525     0.410   0.115        0.7745          0.4160         0.1630   \n",
       "1251   0.445     0.335   0.110        0.4355          0.2025         0.1095   \n",
       "1252   0.750     0.550   0.195        1.8325          0.8300         0.3660   \n",
       "\n",
       "      Shell Weight  Target  \n",
       "0           0.3100      15  \n",
       "1           0.1045       8  \n",
       "2           0.4100      18  \n",
       "3           0.3370      13  \n",
       "4           0.0400       6  \n",
       "...            ...     ...  \n",
       "1248        0.0150       4  \n",
       "1249        0.0935       7  \n",
       "1250        0.1800       7  \n",
       "1251        0.1195       6  \n",
       "1252        0.4400      11  \n",
       "\n",
       "[1253 rows x 8 columns]"
      ]
     },
     "execution_count": 3,
     "metadata": {},
     "output_type": "execute_result"
    }
   ],
   "source": [
    "train_df1 = train_df.drop(columns=['id','Gender'])\n",
    "train_df1"
   ]
  },
  {
   "cell_type": "code",
   "execution_count": 4,
   "id": "f97845f0",
   "metadata": {},
   "outputs": [
    {
     "data": {
      "text/html": [
       "<div>\n",
       "<style scoped>\n",
       "    .dataframe tbody tr th:only-of-type {\n",
       "        vertical-align: middle;\n",
       "    }\n",
       "\n",
       "    .dataframe tbody tr th {\n",
       "        vertical-align: top;\n",
       "    }\n",
       "\n",
       "    .dataframe thead th {\n",
       "        text-align: right;\n",
       "    }\n",
       "</style>\n",
       "<table border=\"1\" class=\"dataframe\">\n",
       "  <thead>\n",
       "    <tr style=\"text-align: right;\">\n",
       "      <th></th>\n",
       "      <th>Gender</th>\n",
       "      <th>Lenght</th>\n",
       "      <th>Diameter</th>\n",
       "      <th>Height</th>\n",
       "      <th>Whole Weight</th>\n",
       "      <th>Shucked Weight</th>\n",
       "      <th>Viscra Weight</th>\n",
       "      <th>Shell Weight</th>\n",
       "      <th>Target</th>\n",
       "    </tr>\n",
       "  </thead>\n",
       "  <tbody>\n",
       "    <tr>\n",
       "      <th>0</th>\n",
       "      <td>M</td>\n",
       "      <td>0.605</td>\n",
       "      <td>0.470</td>\n",
       "      <td>0.115</td>\n",
       "      <td>1.1140</td>\n",
       "      <td>0.3925</td>\n",
       "      <td>0.2910</td>\n",
       "      <td>0.3100</td>\n",
       "      <td>15</td>\n",
       "    </tr>\n",
       "    <tr>\n",
       "      <th>1</th>\n",
       "      <td>I</td>\n",
       "      <td>0.430</td>\n",
       "      <td>0.315</td>\n",
       "      <td>0.095</td>\n",
       "      <td>0.3780</td>\n",
       "      <td>0.1750</td>\n",
       "      <td>0.0800</td>\n",
       "      <td>0.1045</td>\n",
       "      <td>8</td>\n",
       "    </tr>\n",
       "    <tr>\n",
       "      <th>2</th>\n",
       "      <td>I</td>\n",
       "      <td>0.580</td>\n",
       "      <td>0.490</td>\n",
       "      <td>0.195</td>\n",
       "      <td>1.3165</td>\n",
       "      <td>0.5305</td>\n",
       "      <td>0.2540</td>\n",
       "      <td>0.4100</td>\n",
       "      <td>18</td>\n",
       "    </tr>\n",
       "    <tr>\n",
       "      <th>3</th>\n",
       "      <td>M</td>\n",
       "      <td>0.535</td>\n",
       "      <td>0.405</td>\n",
       "      <td>0.175</td>\n",
       "      <td>1.2705</td>\n",
       "      <td>0.5480</td>\n",
       "      <td>0.3265</td>\n",
       "      <td>0.3370</td>\n",
       "      <td>13</td>\n",
       "    </tr>\n",
       "    <tr>\n",
       "      <th>4</th>\n",
       "      <td>I</td>\n",
       "      <td>0.310</td>\n",
       "      <td>0.235</td>\n",
       "      <td>0.090</td>\n",
       "      <td>0.1270</td>\n",
       "      <td>0.0480</td>\n",
       "      <td>0.0310</td>\n",
       "      <td>0.0400</td>\n",
       "      <td>6</td>\n",
       "    </tr>\n",
       "    <tr>\n",
       "      <th>...</th>\n",
       "      <td>...</td>\n",
       "      <td>...</td>\n",
       "      <td>...</td>\n",
       "      <td>...</td>\n",
       "      <td>...</td>\n",
       "      <td>...</td>\n",
       "      <td>...</td>\n",
       "      <td>...</td>\n",
       "      <td>...</td>\n",
       "    </tr>\n",
       "    <tr>\n",
       "      <th>1248</th>\n",
       "      <td>I</td>\n",
       "      <td>0.190</td>\n",
       "      <td>0.145</td>\n",
       "      <td>0.040</td>\n",
       "      <td>0.0380</td>\n",
       "      <td>0.0165</td>\n",
       "      <td>0.0065</td>\n",
       "      <td>0.0150</td>\n",
       "      <td>4</td>\n",
       "    </tr>\n",
       "    <tr>\n",
       "      <th>1249</th>\n",
       "      <td>I</td>\n",
       "      <td>0.395</td>\n",
       "      <td>0.310</td>\n",
       "      <td>0.085</td>\n",
       "      <td>0.3170</td>\n",
       "      <td>0.1530</td>\n",
       "      <td>0.0505</td>\n",
       "      <td>0.0935</td>\n",
       "      <td>7</td>\n",
       "    </tr>\n",
       "    <tr>\n",
       "      <th>1250</th>\n",
       "      <td>F</td>\n",
       "      <td>0.525</td>\n",
       "      <td>0.410</td>\n",
       "      <td>0.115</td>\n",
       "      <td>0.7745</td>\n",
       "      <td>0.4160</td>\n",
       "      <td>0.1630</td>\n",
       "      <td>0.1800</td>\n",
       "      <td>7</td>\n",
       "    </tr>\n",
       "    <tr>\n",
       "      <th>1251</th>\n",
       "      <td>F</td>\n",
       "      <td>0.445</td>\n",
       "      <td>0.335</td>\n",
       "      <td>0.110</td>\n",
       "      <td>0.4355</td>\n",
       "      <td>0.2025</td>\n",
       "      <td>0.1095</td>\n",
       "      <td>0.1195</td>\n",
       "      <td>6</td>\n",
       "    </tr>\n",
       "    <tr>\n",
       "      <th>1252</th>\n",
       "      <td>F</td>\n",
       "      <td>0.750</td>\n",
       "      <td>0.550</td>\n",
       "      <td>0.195</td>\n",
       "      <td>1.8325</td>\n",
       "      <td>0.8300</td>\n",
       "      <td>0.3660</td>\n",
       "      <td>0.4400</td>\n",
       "      <td>11</td>\n",
       "    </tr>\n",
       "  </tbody>\n",
       "</table>\n",
       "<p>1253 rows × 9 columns</p>\n",
       "</div>"
      ],
      "text/plain": [
       "     Gender  Lenght  Diameter  Height  Whole Weight  Shucked Weight  \\\n",
       "0         M   0.605     0.470   0.115        1.1140          0.3925   \n",
       "1         I   0.430     0.315   0.095        0.3780          0.1750   \n",
       "2         I   0.580     0.490   0.195        1.3165          0.5305   \n",
       "3         M   0.535     0.405   0.175        1.2705          0.5480   \n",
       "4         I   0.310     0.235   0.090        0.1270          0.0480   \n",
       "...     ...     ...       ...     ...           ...             ...   \n",
       "1248      I   0.190     0.145   0.040        0.0380          0.0165   \n",
       "1249      I   0.395     0.310   0.085        0.3170          0.1530   \n",
       "1250      F   0.525     0.410   0.115        0.7745          0.4160   \n",
       "1251      F   0.445     0.335   0.110        0.4355          0.2025   \n",
       "1252      F   0.750     0.550   0.195        1.8325          0.8300   \n",
       "\n",
       "      Viscra Weight  Shell Weight  Target  \n",
       "0            0.2910        0.3100      15  \n",
       "1            0.0800        0.1045       8  \n",
       "2            0.2540        0.4100      18  \n",
       "3            0.3265        0.3370      13  \n",
       "4            0.0310        0.0400       6  \n",
       "...             ...           ...     ...  \n",
       "1248         0.0065        0.0150       4  \n",
       "1249         0.0505        0.0935       7  \n",
       "1250         0.1630        0.1800       7  \n",
       "1251         0.1095        0.1195       6  \n",
       "1252         0.3660        0.4400      11  \n",
       "\n",
       "[1253 rows x 9 columns]"
      ]
     },
     "execution_count": 4,
     "metadata": {},
     "output_type": "execute_result"
    }
   ],
   "source": [
    "train_df2 = train_df.drop(labels=['id'],axis=1)\n",
    "train_df2"
   ]
  },
  {
   "cell_type": "code",
   "execution_count": 5,
   "id": "44252dc7",
   "metadata": {},
   "outputs": [],
   "source": [
    "train_df = train_df.drop(columns='id')"
   ]
  },
  {
   "cell_type": "markdown",
   "id": "6ee2cdc2",
   "metadata": {},
   "source": [
    "## Target값 분석"
   ]
  },
  {
   "cell_type": "code",
   "execution_count": 6,
   "id": "94a1754f",
   "metadata": {},
   "outputs": [
    {
     "data": {
      "text/plain": [
       "0       15\n",
       "1        8\n",
       "2       18\n",
       "3       13\n",
       "4        6\n",
       "        ..\n",
       "1248     4\n",
       "1249     7\n",
       "1250     7\n",
       "1251     6\n",
       "1252    11\n",
       "Name: Target, Length: 1253, dtype: int64"
      ]
     },
     "execution_count": 6,
     "metadata": {},
     "output_type": "execute_result"
    }
   ],
   "source": [
    "train_df['Target']"
   ]
  },
  {
   "cell_type": "code",
   "execution_count": 7,
   "id": "dd5e4f5f",
   "metadata": {},
   "outputs": [
    {
     "data": {
      "image/png": "[encoded data removed]",
      "text/plain": [
       "<Figure size 432x288 with 1 Axes>"
      ]
     },
     "metadata": {
      "needs_background": "light"
     },
     "output_type": "display_data"
    }
   ],
   "source": [
    "plt.hist(train_df['Target'], bins=20)\n",
    "plt.show()"
   ]
  },
  {
   "cell_type": "code",
   "execution_count": 8,
   "id": "ca2f4031",
   "metadata": {},
   "outputs": [
    {
     "data": {
      "text/plain": [
       "Target\n",
       "3       5\n",
       "4      14\n",
       "5      37\n",
       "6      88\n",
       "7     107\n",
       "8     174\n",
       "9     200\n",
       "10    202\n",
       "11    141\n",
       "12     79\n",
       "13     62\n",
       "14     42\n",
       "15     26\n",
       "16     21\n",
       "17     13\n",
       "18     12\n",
       "19      8\n",
       "20     11\n",
       "21      5\n",
       "22      2\n",
       "23      3\n",
       "29      1\n",
       "Name: Gender, dtype: int64"
      ]
     },
     "execution_count": 8,
     "metadata": {},
     "output_type": "execute_result"
    }
   ],
   "source": [
    "train_df.groupby('Target').count().iloc[:,0]"
   ]
  },
  {
   "cell_type": "code",
   "execution_count": 9,
   "id": "bb4a2162",
   "metadata": {},
   "outputs": [
    {
     "data": {
      "image/png": "[encoded data removed]",
      "text/plain": [
       "<Figure size 432x288 with 1 Axes>"
      ]
     },
     "metadata": {
      "needs_background": "light"
     },
     "output_type": "display_data"
    }
   ],
   "source": [
    "plt.plot(train_df.groupby('Target').count().iloc[:,0])\n",
    "plt.show()"
   ]
  },
  {
   "cell_type": "code",
   "execution_count": 10,
   "id": "b421aa55",
   "metadata": {},
   "outputs": [
    {
     "data": {
      "image/png": "[encoded data removed]",
      "text/plain": [
       "<Figure size 432x288 with 1 Axes>"
      ]
     },
     "metadata": {
      "needs_background": "light"
     },
     "output_type": "display_data"
    }
   ],
   "source": [
    "sns.countplot(train_df['Target'])\n",
    "plt.show()"
   ]
  },
  {
   "cell_type": "markdown",
   "id": "dbf9685f",
   "metadata": {},
   "source": [
    "## Gender값 분석"
   ]
  },
  {
   "cell_type": "code",
   "execution_count": 11,
   "id": "8ed6aec7",
   "metadata": {
    "scrolled": false
   },
   "outputs": [
    {
     "data": {
      "text/plain": [
       "Gender\n",
       "F    380\n",
       "I    404\n",
       "M    469\n",
       "Name: Lenght, dtype: int64"
      ]
     },
     "execution_count": 11,
     "metadata": {},
     "output_type": "execute_result"
    }
   ],
   "source": [
    "train_df.groupby('Gender').count().iloc[:,0]"
   ]
  },
  {
   "cell_type": "code",
   "execution_count": 12,
   "id": "f38d6853",
   "metadata": {},
   "outputs": [
    {
     "data": {
      "text/plain": [
       "Index(['F', 'I', 'M'], dtype='object', name='Gender')"
      ]
     },
     "execution_count": 12,
     "metadata": {},
     "output_type": "execute_result"
    }
   ],
   "source": [
    "train_df.groupby('Gender').count().iloc[:,0].index"
   ]
  },
  {
   "cell_type": "code",
   "execution_count": 13,
   "id": "b87ce04c",
   "metadata": {},
   "outputs": [
    {
     "data": {
      "text/plain": [
       "array([380, 404, 469], dtype=int64)"
      ]
     },
     "execution_count": 13,
     "metadata": {},
     "output_type": "execute_result"
    }
   ],
   "source": [
    "train_df.groupby('Gender').count().iloc[:,0].values"
   ]
  },
  {
   "cell_type": "code",
   "execution_count": 14,
   "id": "66ac741e",
   "metadata": {},
   "outputs": [
    {
     "data": {
      "image/png": "[encoded data removed]",
      "text/plain": [
       "<Figure size 432x288 with 1 Axes>"
      ]
     },
     "metadata": {
      "needs_background": "light"
     },
     "output_type": "display_data"
    }
   ],
   "source": [
    "x = train_df.groupby('Gender').count().iloc[:,0].index\n",
    "y = train_df.groupby('Gender').count().iloc[:,0].values\n",
    "plt.bar(x,y)\n",
    "plt.show()"
   ]
  },
  {
   "cell_type": "code",
   "execution_count": 15,
   "id": "e7c3b157",
   "metadata": {},
   "outputs": [
    {
     "data": {
      "image/png": "[encoded data removed]",
      "text/plain": [
       "<Figure size 432x288 with 1 Axes>"
      ]
     },
     "metadata": {
      "needs_background": "light"
     },
     "output_type": "display_data"
    }
   ],
   "source": [
    "sns.countplot(train_df['Gender'])\n",
    "plt.show()"
   ]
  },
  {
   "cell_type": "markdown",
   "id": "49fe1bfd",
   "metadata": {},
   "source": [
    "## Gender값 Label Encoding"
   ]
  },
  {
   "cell_type": "code",
   "execution_count": 16,
   "id": "c8d8a85b",
   "metadata": {},
   "outputs": [
    {
     "data": {
      "text/plain": [
       "0       3\n",
       "1       2\n",
       "2       2\n",
       "3       3\n",
       "4       2\n",
       "       ..\n",
       "1248    2\n",
       "1249    2\n",
       "1250    1\n",
       "1251    1\n",
       "1252    1\n",
       "Name: Gender, Length: 1253, dtype: int64"
      ]
     },
     "execution_count": 16,
     "metadata": {},
     "output_type": "execute_result"
    }
   ],
   "source": [
    "train_df['Gender'].replace(to_replace=['F','I','M'],value=[1,2,3])"
   ]
  },
  {
   "cell_type": "code",
   "execution_count": 17,
   "id": "ab06f4e4",
   "metadata": {},
   "outputs": [
    {
     "data": {
      "text/plain": [
       "0       3\n",
       "1       2\n",
       "2       2\n",
       "3       3\n",
       "4       2\n",
       "       ..\n",
       "1248    2\n",
       "1249    2\n",
       "1250    1\n",
       "1251    1\n",
       "1252    1\n",
       "Name: Gender, Length: 1253, dtype: int64"
      ]
     },
     "execution_count": 17,
     "metadata": {},
     "output_type": "execute_result"
    }
   ],
   "source": [
    "train_df['Gender'].replace(to_replace={'F':1,'I':2,'M':3})"
   ]
  },
  {
   "cell_type": "code",
   "execution_count": 18,
   "id": "c2e13b70",
   "metadata": {
    "scrolled": true
   },
   "outputs": [
    {
     "data": {
      "text/plain": [
       "array(['M', 'I', 'F'], dtype=object)"
      ]
     },
     "execution_count": 18,
     "metadata": {},
     "output_type": "execute_result"
    }
   ],
   "source": [
    "train_df['Gender'].unique()"
   ]
  },
  {
   "cell_type": "code",
   "execution_count": 19,
   "id": "a0186c37",
   "metadata": {},
   "outputs": [
    {
     "name": "stdout",
     "output_type": "stream",
     "text": [
      "Gender             object\n",
      "Lenght            float64\n",
      "Diameter          float64\n",
      "Height            float64\n",
      "Whole Weight      float64\n",
      "Shucked Weight    float64\n",
      "Viscra Weight     float64\n",
      "Shell Weight      float64\n",
      "Target              int64\n",
      "dtype: object\n",
      "object\n"
     ]
    }
   ],
   "source": [
    "print(train_df.dtypes)\n",
    "print(train_df['Gender'].dtypes)"
   ]
  },
  {
   "cell_type": "code",
   "execution_count": 20,
   "id": "da764c86",
   "metadata": {},
   "outputs": [],
   "source": [
    "def label_encode(df):\n",
    "    for i in df.columns:\n",
    "        if df[i].dtypes == \"object\":\n",
    "            label_map = {}\n",
    "            for j,k in enumerate(df[i].unique()):\n",
    "                label_map[k] = j+1\n",
    "            df[i] = df[i].replace(to_replace=label_map)"
   ]
  },
  {
   "cell_type": "code",
   "execution_count": 21,
   "id": "99cd8235",
   "metadata": {},
   "outputs": [
    {
     "data": {
      "text/html": [
       "<div>\n",
       "<style scoped>\n",
       "    .dataframe tbody tr th:only-of-type {\n",
       "        vertical-align: middle;\n",
       "    }\n",
       "\n",
       "    .dataframe tbody tr th {\n",
       "        vertical-align: top;\n",
       "    }\n",
       "\n",
       "    .dataframe thead th {\n",
       "        text-align: right;\n",
       "    }\n",
       "</style>\n",
       "<table border=\"1\" class=\"dataframe\">\n",
       "  <thead>\n",
       "    <tr style=\"text-align: right;\">\n",
       "      <th></th>\n",
       "      <th>Gender</th>\n",
       "      <th>Lenght</th>\n",
       "      <th>Diameter</th>\n",
       "      <th>Height</th>\n",
       "      <th>Whole Weight</th>\n",
       "      <th>Shucked Weight</th>\n",
       "      <th>Viscra Weight</th>\n",
       "      <th>Shell Weight</th>\n",
       "      <th>Target</th>\n",
       "    </tr>\n",
       "  </thead>\n",
       "  <tbody>\n",
       "    <tr>\n",
       "      <th>0</th>\n",
       "      <td>1</td>\n",
       "      <td>0.605</td>\n",
       "      <td>0.470</td>\n",
       "      <td>0.115</td>\n",
       "      <td>1.1140</td>\n",
       "      <td>0.3925</td>\n",
       "      <td>0.2910</td>\n",
       "      <td>0.3100</td>\n",
       "      <td>15</td>\n",
       "    </tr>\n",
       "    <tr>\n",
       "      <th>1</th>\n",
       "      <td>2</td>\n",
       "      <td>0.430</td>\n",
       "      <td>0.315</td>\n",
       "      <td>0.095</td>\n",
       "      <td>0.3780</td>\n",
       "      <td>0.1750</td>\n",
       "      <td>0.0800</td>\n",
       "      <td>0.1045</td>\n",
       "      <td>8</td>\n",
       "    </tr>\n",
       "    <tr>\n",
       "      <th>2</th>\n",
       "      <td>2</td>\n",
       "      <td>0.580</td>\n",
       "      <td>0.490</td>\n",
       "      <td>0.195</td>\n",
       "      <td>1.3165</td>\n",
       "      <td>0.5305</td>\n",
       "      <td>0.2540</td>\n",
       "      <td>0.4100</td>\n",
       "      <td>18</td>\n",
       "    </tr>\n",
       "    <tr>\n",
       "      <th>3</th>\n",
       "      <td>1</td>\n",
       "      <td>0.535</td>\n",
       "      <td>0.405</td>\n",
       "      <td>0.175</td>\n",
       "      <td>1.2705</td>\n",
       "      <td>0.5480</td>\n",
       "      <td>0.3265</td>\n",
       "      <td>0.3370</td>\n",
       "      <td>13</td>\n",
       "    </tr>\n",
       "    <tr>\n",
       "      <th>4</th>\n",
       "      <td>2</td>\n",
       "      <td>0.310</td>\n",
       "      <td>0.235</td>\n",
       "      <td>0.090</td>\n",
       "      <td>0.1270</td>\n",
       "      <td>0.0480</td>\n",
       "      <td>0.0310</td>\n",
       "      <td>0.0400</td>\n",
       "      <td>6</td>\n",
       "    </tr>\n",
       "    <tr>\n",
       "      <th>...</th>\n",
       "      <td>...</td>\n",
       "      <td>...</td>\n",
       "      <td>...</td>\n",
       "      <td>...</td>\n",
       "      <td>...</td>\n",
       "      <td>...</td>\n",
       "      <td>...</td>\n",
       "      <td>...</td>\n",
       "      <td>...</td>\n",
       "    </tr>\n",
       "    <tr>\n",
       "      <th>1248</th>\n",
       "      <td>2</td>\n",
       "      <td>0.190</td>\n",
       "      <td>0.145</td>\n",
       "      <td>0.040</td>\n",
       "      <td>0.0380</td>\n",
       "      <td>0.0165</td>\n",
       "      <td>0.0065</td>\n",
       "      <td>0.0150</td>\n",
       "      <td>4</td>\n",
       "    </tr>\n",
       "    <tr>\n",
       "      <th>1249</th>\n",
       "      <td>2</td>\n",
       "      <td>0.395</td>\n",
       "      <td>0.310</td>\n",
       "      <td>0.085</td>\n",
       "      <td>0.3170</td>\n",
       "      <td>0.1530</td>\n",
       "      <td>0.0505</td>\n",
       "      <td>0.0935</td>\n",
       "      <td>7</td>\n",
       "    </tr>\n",
       "    <tr>\n",
       "      <th>1250</th>\n",
       "      <td>3</td>\n",
       "      <td>0.525</td>\n",
       "      <td>0.410</td>\n",
       "      <td>0.115</td>\n",
       "      <td>0.7745</td>\n",
       "      <td>0.4160</td>\n",
       "      <td>0.1630</td>\n",
       "      <td>0.1800</td>\n",
       "      <td>7</td>\n",
       "    </tr>\n",
       "    <tr>\n",
       "      <th>1251</th>\n",
       "      <td>3</td>\n",
       "      <td>0.445</td>\n",
       "      <td>0.335</td>\n",
       "      <td>0.110</td>\n",
       "      <td>0.4355</td>\n",
       "      <td>0.2025</td>\n",
       "      <td>0.1095</td>\n",
       "      <td>0.1195</td>\n",
       "      <td>6</td>\n",
       "    </tr>\n",
       "    <tr>\n",
       "      <th>1252</th>\n",
       "      <td>3</td>\n",
       "      <td>0.750</td>\n",
       "      <td>0.550</td>\n",
       "      <td>0.195</td>\n",
       "      <td>1.8325</td>\n",
       "      <td>0.8300</td>\n",
       "      <td>0.3660</td>\n",
       "      <td>0.4400</td>\n",
       "      <td>11</td>\n",
       "    </tr>\n",
       "  </tbody>\n",
       "</table>\n",
       "<p>1253 rows × 9 columns</p>\n",
       "</div>"
      ],
      "text/plain": [
       "      Gender  Lenght  Diameter  Height  Whole Weight  Shucked Weight  \\\n",
       "0          1   0.605     0.470   0.115        1.1140          0.3925   \n",
       "1          2   0.430     0.315   0.095        0.3780          0.1750   \n",
       "2          2   0.580     0.490   0.195        1.3165          0.5305   \n",
       "3          1   0.535     0.405   0.175        1.2705          0.5480   \n",
       "4          2   0.310     0.235   0.090        0.1270          0.0480   \n",
       "...      ...     ...       ...     ...           ...             ...   \n",
       "1248       2   0.190     0.145   0.040        0.0380          0.0165   \n",
       "1249       2   0.395     0.310   0.085        0.3170          0.1530   \n",
       "1250       3   0.525     0.410   0.115        0.7745          0.4160   \n",
       "1251       3   0.445     0.335   0.110        0.4355          0.2025   \n",
       "1252       3   0.750     0.550   0.195        1.8325          0.8300   \n",
       "\n",
       "      Viscra Weight  Shell Weight  Target  \n",
       "0            0.2910        0.3100      15  \n",
       "1            0.0800        0.1045       8  \n",
       "2            0.2540        0.4100      18  \n",
       "3            0.3265        0.3370      13  \n",
       "4            0.0310        0.0400       6  \n",
       "...             ...           ...     ...  \n",
       "1248         0.0065        0.0150       4  \n",
       "1249         0.0505        0.0935       7  \n",
       "1250         0.1630        0.1800       7  \n",
       "1251         0.1095        0.1195       6  \n",
       "1252         0.3660        0.4400      11  \n",
       "\n",
       "[1253 rows x 9 columns]"
      ]
     },
     "execution_count": 21,
     "metadata": {},
     "output_type": "execute_result"
    }
   ],
   "source": [
    "label_encode(train_df)\n",
    "train_df"
   ]
  },
  {
   "cell_type": "markdown",
   "id": "9bf8dfbf",
   "metadata": {},
   "source": [
    "## Gender값 OneHot Encoding"
   ]
  },
  {
   "cell_type": "code",
   "execution_count": null,
   "id": "7fad6226",
   "metadata": {},
   "outputs": [],
   "source": []
  },
  {
   "cell_type": "code",
   "execution_count": null,
   "id": "f7bd84d2",
   "metadata": {},
   "outputs": [],
   "source": []
  },
  {
   "cell_type": "code",
   "execution_count": null,
   "id": "76d0567d",
   "metadata": {},
   "outputs": [],
   "source": []
  },
  {
   "cell_type": "code",
   "execution_count": null,
   "id": "74fe8b0a",
   "metadata": {},
   "outputs": [],
   "source": []
  },
  {
   "cell_type": "code",
   "execution_count": null,
   "id": "a5ca2065",
   "metadata": {},
   "outputs": [],
   "source": []
  },
  {
   "cell_type": "code",
   "execution_count": null,
   "id": "fc513e7c",
   "metadata": {},
   "outputs": [],
   "source": []
  }
 ],
 "metadata": {
  "kernelspec": {
   "display_name": "Python 3 (ipykernel)",
   "language": "python",
   "name": "python3"
  },
  "language_info": {
   "codemirror_mode": {
    "name": "ipython",
    "version": 3
   },
   "file_extension": ".py",
   "mimetype": "text/x-python",
   "name": "python",
   "nbconvert_exporter": "python",
   "pygments_lexer": "ipython3",
   "version": "3.9.7"
  }
 },
 "nbformat": 4,
 "nbformat_minor": 5
}
