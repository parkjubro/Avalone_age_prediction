{
 "cells": [
  {
   "cell_type": "code",
   "execution_count": null,
   "id": "2dfa9da2",
   "metadata": {},
   "outputs": [],
   "source": [
    "import pandas as pd\n",
    "import numpy as np\n",
    "import matplotlib.pyplot as plt\n",
    "import seaborn as sns\n",
    "\n",
    "import warnings\n",
    "warnings.filterwarnings('ignore')\n",
    "\n",
    "from sklearn.ensemble import RandomForestRegressor\n",
    "from sklearn.ensemble import GradientBoostingClassifier"
   ]
  },
  {
   "cell_type": "code",
   "execution_count": null,
   "id": "717b65ec",
   "metadata": {},
   "outputs": [],
   "source": [
    "test_df = pd.read_csv('./data/test.csv')\n",
    "train_df = pd.read_csv('./data/train.csv')\n",
    "submission = pd.read_csv('./data/sample_submission.csv')"
   ]
  },
  {
   "cell_type": "code",
   "execution_count": null,
   "id": "01dbf685",
   "metadata": {},
   "outputs": [],
   "source": [
    "def check_null(df):  # 결측치 확인\n",
    "    total_cnt = 0 \n",
    "    for i in df.columns:\n",
    "        cnt = sum(df[i].isnull())\n",
    "        total_cnt += cnt\n",
    "        if cnt:\n",
    "            print(f'{i}열에 결측치{cnt}개')\n",
    "        else:\n",
    "            print(f'{i}열에 결측치 없음')\n",
    "    if total_cnt == 0:\n",
    "        print('모든열에 결측치 없음')"
   ]
  },
  {
   "cell_type": "code",
   "execution_count": null,
   "id": "43651d1f",
   "metadata": {},
   "outputs": [],
   "source": [
    "check_null(test_df)"
   ]
  },
  {
   "cell_type": "code",
   "execution_count": null,
   "id": "6e9fbf63",
   "metadata": {},
   "outputs": [],
   "source": [
    "check_null(train_df)"
   ]
  },
  {
   "cell_type": "code",
   "execution_count": null,
   "id": "a964853b",
   "metadata": {},
   "outputs": [],
   "source": [
    "train_df = train_df.drop(columns='id') # id값 제거\n",
    "test_df = test_df.drop(columns='id')\n",
    "train_df.head()"
   ]
  },
  {
   "cell_type": "markdown",
   "id": "ef7b8001",
   "metadata": {},
   "source": [
    "## Label Encoding"
   ]
  },
  {
   "cell_type": "code",
   "execution_count": null,
   "id": "6865eaae",
   "metadata": {},
   "outputs": [],
   "source": [
    "def label_encode(df):\n",
    "    for i in df.columns:\n",
    "        if df[i].dtypes == \"object\":\n",
    "            label_map = {}\n",
    "            for j,k in enumerate(df[i].unique()):\n",
    "                label_map[k] = j+1\n",
    "            df[i] = df[i].replace(to_replace=label_map)"
   ]
  },
  {
   "cell_type": "code",
   "execution_count": null,
   "id": "25259f4e",
   "metadata": {},
   "outputs": [],
   "source": [
    "train_df_label = train_df.copy() # label 인코딩\n",
    "label_encode(train_df_label)\n",
    "test_df_label = test_df.copy()\n",
    "label_encode(test_df_label)\n",
    "\n",
    "train_df_label.head()"
   ]
  },
  {
   "cell_type": "code",
   "execution_count": null,
   "id": "681ee1bb",
   "metadata": {},
   "outputs": [],
   "source": [
    "train_label_x = train_df_label.drop(columns='Target') # Target 분리\n",
    "train_label_y = train_df_label['Target']\n",
    "train_label_x.head()"
   ]
  },
  {
   "cell_type": "code",
   "execution_count": null,
   "id": "19898819",
   "metadata": {},
   "outputs": [],
   "source": [
    "model_label = RandomForestRegressor() # 모델 학습 및 적용\n",
    "model_label.fit(train_label_x,train_label_y)\n",
    "\n",
    "pred_label = model_label.predict(test_df_label)\n",
    "pred_label"
   ]
  },
  {
   "cell_type": "code",
   "execution_count": null,
   "id": "910dd9e1",
   "metadata": {},
   "outputs": [],
   "source": [
    "submission['Target'] = pred_label # 제출 파일 저장\n",
    "submission.to_csv('submit_label.csv', index=False)\n",
    "submission.head()"
   ]
  },
  {
   "cell_type": "markdown",
   "id": "b447cc6b",
   "metadata": {},
   "source": [
    "## OneHot Encoding"
   ]
  },
  {
   "cell_type": "code",
   "execution_count": null,
   "id": "c95384cc",
   "metadata": {},
   "outputs": [],
   "source": [
    "train_df_onehot = pd.get_dummies(train_df, columns = ['Gender']) # onehot 인코딩\n",
    "test_df_onehot = pd.get_dummies(test_df, columns = ['Gender'])\n",
    "train_df_onehot.head()"
   ]
  },
  {
   "cell_type": "code",
   "execution_count": null,
   "id": "486cf550",
   "metadata": {},
   "outputs": [],
   "source": [
    "train_onehot_x = train_df_onehot.drop(columns='Target') # Target 분리\n",
    "train_onehot_y = train_df_onehot['Target']\n",
    "train_onehot_x.head()"
   ]
  },
  {
   "cell_type": "code",
   "execution_count": null,
   "id": "f3a6124c",
   "metadata": {},
   "outputs": [],
   "source": [
    "model_onehot = RandomForestRegressor() # 모델 학습 및 적용\n",
    "model_onehot.fit(train_onehot_x,train_onehot_y)\n",
    "\n",
    "pred_onehot = model_onehot.predict(test_df_onehot)\n",
    "pred_onehot"
   ]
  },
  {
   "cell_type": "code",
   "execution_count": null,
   "id": "d111ec75",
   "metadata": {},
   "outputs": [],
   "source": [
    "submission['Target'] = pred_onehot # 제출 파일 저장\n",
    "submission.to_csv('submit_onehot.csv', index=False)\n",
    "submission.head()"
   ]
  },
  {
   "cell_type": "code",
   "execution_count": null,
   "id": "608320fa",
   "metadata": {},
   "outputs": [],
   "source": []
  },
  {
   "cell_type": "code",
   "execution_count": null,
   "id": "48089550",
   "metadata": {},
   "outputs": [],
   "source": [
    "# model = GradientBoostingClassifier()\n",
    "# model.fit(train_label_x,train_label_y)\n",
    "# pred = model.predict(test_df_label)\n",
    "# submission['Target'] = pred\n",
    "# submission.head()"
   ]
  },
  {
   "cell_type": "code",
   "execution_count": null,
   "id": "2e7eaf4f",
   "metadata": {},
   "outputs": [],
   "source": [
    "# submission['Target'] = pred\n",
    "# submission.head()"
   ]
  },
  {
   "cell_type": "code",
   "execution_count": null,
   "id": "1f04aa2c",
   "metadata": {},
   "outputs": [],
   "source": []
  },
  {
   "cell_type": "code",
   "execution_count": null,
   "id": "8c7920a1",
   "metadata": {},
   "outputs": [],
   "source": []
  },
  {
   "cell_type": "code",
   "execution_count": null,
   "id": "33252030",
   "metadata": {},
   "outputs": [],
   "source": []
  },
  {
   "cell_type": "code",
   "execution_count": null,
   "id": "5d64bde9",
   "metadata": {},
   "outputs": [],
   "source": []
  },
  {
   "cell_type": "code",
   "execution_count": null,
   "id": "a800f1b9",
   "metadata": {},
   "outputs": [],
   "source": []
  },
  {
   "cell_type": "code",
   "execution_count": null,
   "id": "876b75e5",
   "metadata": {},
   "outputs": [],
   "source": []
  },
  {
   "cell_type": "code",
   "execution_count": null,
   "id": "156cae84",
   "metadata": {},
   "outputs": [],
   "source": []
  },
  {
   "cell_type": "code",
   "execution_count": null,
   "id": "e1cb94b0",
   "metadata": {},
   "outputs": [],
   "source": []
  },
  {
   "cell_type": "code",
   "execution_count": null,
   "id": "d6e38204",
   "metadata": {},
   "outputs": [],
   "source": []
  },
  {
   "cell_type": "code",
   "execution_count": null,
   "id": "13db6a79",
   "metadata": {},
   "outputs": [],
   "source": []
  },
  {
   "cell_type": "code",
   "execution_count": null,
   "id": "52f24f6c",
   "metadata": {},
   "outputs": [],
   "source": []
  },
  {
   "cell_type": "code",
   "execution_count": null,
   "id": "abccbd82",
   "metadata": {},
   "outputs": [],
   "source": []
  }
 ],
 "metadata": {
  "kernelspec": {
   "display_name": "Python 3 (ipykernel)",
   "language": "python",
   "name": "python3"
  },
  "language_info": {
   "codemirror_mode": {
    "name": "ipython",
    "version": 3
   },
   "file_extension": ".py",
   "mimetype": "text/x-python",
   "name": "python",
   "nbconvert_exporter": "python",
   "pygments_lexer": "ipython3",
   "version": "3.9.7"
  }
 },
 "nbformat": 4,
 "nbformat_minor": 5
}
